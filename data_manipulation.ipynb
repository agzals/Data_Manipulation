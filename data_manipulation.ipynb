{
 "cells": [
  {
   "cell_type": "code",
   "execution_count": 1,
   "metadata": {},
   "outputs": [],
   "source": [
    "import pandas as pd\n",
    "import matplotlib.pyplot as plt\n",
    "\n",
    "# [1]. Load masing-masing data dengan pandas\n",
    "retail_data1 = pd.read_csv('https://storage.googleapis.com/dqlab-dataset/10%25_original_randomstate%3D42/retail_data_from_1_until_3_reduce.csv')\n",
    "retail_data2 = pd.read_csv('https://storage.googleapis.com/dqlab-dataset/10%25_original_randomstate%3D42/retail_data_from_4_until_6_reduce.csv')\n",
    "retail_data3 = pd.read_csv('https://storage.googleapis.com/dqlab-dataset/10%25_original_randomstate%3D42/retail_data_from_7_until_9_reduce.csv')\n",
    "retail_data4 = pd.read_csv('https://storage.googleapis.com/dqlab-dataset/10%25_original_randomstate%3D42/retail_data_from_10_until_12_reduce.csv')\n"
   ]
  },
  {
   "cell_type": "markdown",
   "metadata": {},
   "source": [
    "Menggabungkan semua dataframe ke dalam satu table"
   ]
  },
  {
   "cell_type": "code",
   "execution_count": 2,
   "metadata": {},
   "outputs": [
    {
     "data": {
      "text/html": [
       "<div>\n",
       "<style scoped>\n",
       "    .dataframe tbody tr th:only-of-type {\n",
       "        vertical-align: middle;\n",
       "    }\n",
       "\n",
       "    .dataframe tbody tr th {\n",
       "        vertical-align: top;\n",
       "    }\n",
       "\n",
       "    .dataframe thead th {\n",
       "        text-align: right;\n",
       "    }\n",
       "</style>\n",
       "<table border=\"1\" class=\"dataframe\">\n",
       "  <thead>\n",
       "    <tr style=\"text-align: right;\">\n",
       "      <th></th>\n",
       "      <th>order_id</th>\n",
       "      <th>order_date</th>\n",
       "      <th>customer_id</th>\n",
       "      <th>city</th>\n",
       "      <th>province</th>\n",
       "      <th>product_id</th>\n",
       "      <th>brand</th>\n",
       "      <th>quantity</th>\n",
       "      <th>item_price</th>\n",
       "      <th>total_price</th>\n",
       "    </tr>\n",
       "  </thead>\n",
       "  <tbody>\n",
       "    <tr>\n",
       "      <th>0</th>\n",
       "      <td>1612885</td>\n",
       "      <td>01-01-19</td>\n",
       "      <td>16293</td>\n",
       "      <td>Malang</td>\n",
       "      <td>Jawa Timur</td>\n",
       "      <td>P1301</td>\n",
       "      <td>BRAND_F</td>\n",
       "      <td>6</td>\n",
       "      <td>747000</td>\n",
       "      <td>4482000</td>\n",
       "    </tr>\n",
       "    <tr>\n",
       "      <th>1</th>\n",
       "      <td>1612387</td>\n",
       "      <td>01-01-19</td>\n",
       "      <td>17228</td>\n",
       "      <td>Bogor</td>\n",
       "      <td>Jawa Barat</td>\n",
       "      <td>P2086</td>\n",
       "      <td>BRAND_L</td>\n",
       "      <td>4</td>\n",
       "      <td>590000</td>\n",
       "      <td>2360000</td>\n",
       "    </tr>\n",
       "    <tr>\n",
       "      <th>2</th>\n",
       "      <td>1612903</td>\n",
       "      <td>01-01-19</td>\n",
       "      <td>16775</td>\n",
       "      <td>Surakarta</td>\n",
       "      <td>Jawa Tengah</td>\n",
       "      <td>P1656</td>\n",
       "      <td>BRAND_G</td>\n",
       "      <td>3</td>\n",
       "      <td>1325000</td>\n",
       "      <td>3975000</td>\n",
       "    </tr>\n",
       "    <tr>\n",
       "      <th>3</th>\n",
       "      <td>1612963</td>\n",
       "      <td>01-01-19</td>\n",
       "      <td>0</td>\n",
       "      <td>unknown</td>\n",
       "      <td>unknown</td>\n",
       "      <td>P3127</td>\n",
       "      <td>BRAND_S</td>\n",
       "      <td>1</td>\n",
       "      <td>1045000</td>\n",
       "      <td>1045000</td>\n",
       "    </tr>\n",
       "    <tr>\n",
       "      <th>4</th>\n",
       "      <td>1612915</td>\n",
       "      <td>01-01-19</td>\n",
       "      <td>0</td>\n",
       "      <td>unknown</td>\n",
       "      <td>unknown</td>\n",
       "      <td>P1230</td>\n",
       "      <td>BRAND_E</td>\n",
       "      <td>1</td>\n",
       "      <td>-891000</td>\n",
       "      <td>891000</td>\n",
       "    </tr>\n",
       "  </tbody>\n",
       "</table>\n",
       "</div>"
      ],
      "text/plain": [
       "  order_id order_date  customer_id       city     province product_id  \\\n",
       "0  1612885   01-01-19        16293     Malang   Jawa Timur      P1301   \n",
       "1  1612387   01-01-19        17228      Bogor   Jawa Barat      P2086   \n",
       "2  1612903   01-01-19        16775  Surakarta  Jawa Tengah      P1656   \n",
       "3  1612963   01-01-19            0    unknown      unknown      P3127   \n",
       "4  1612915   01-01-19            0    unknown      unknown      P1230   \n",
       "\n",
       "     brand  quantity  item_price  total_price  \n",
       "0  BRAND_F         6      747000      4482000  \n",
       "1  BRAND_L         4      590000      2360000  \n",
       "2  BRAND_G         3     1325000      3975000  \n",
       "3  BRAND_S         1     1045000      1045000  \n",
       "4  BRAND_E         1     -891000       891000  "
      ]
     },
     "execution_count": 2,
     "metadata": {},
     "output_type": "execute_result"
    }
   ],
   "source": [
    "retail_table = pd.concat([retail_data1,retail_data2,retail_data3,retail_data4])\n",
    "retail_table.head()"
   ]
  },
  {
   "cell_type": "code",
   "execution_count": 3,
   "metadata": {},
   "outputs": [
    {
     "name": "stdout",
     "output_type": "stream",
     "text": [
      "jumlah baris dan kolom (50856, 10)\n"
     ]
    }
   ],
   "source": [
    "print('jumlah baris dan kolom',retail_table.shape)"
   ]
  },
  {
   "cell_type": "markdown",
   "metadata": {},
   "source": [
    "PENGECEKAN DATAFRAME INFO"
   ]
  },
  {
   "cell_type": "code",
   "execution_count": 4,
   "metadata": {},
   "outputs": [
    {
     "name": "stdout",
     "output_type": "stream",
     "text": [
      "<class 'pandas.core.frame.DataFrame'>\n",
      "Index: 50856 entries, 0 to 20182\n",
      "Data columns (total 10 columns):\n",
      " #   Column       Non-Null Count  Dtype \n",
      "---  ------       --------------  ----- \n",
      " 0   order_id     50856 non-null  object\n",
      " 1   order_date   50856 non-null  object\n",
      " 2   customer_id  50856 non-null  int64 \n",
      " 3   city         50856 non-null  object\n",
      " 4   province     50856 non-null  object\n",
      " 5   product_id   50856 non-null  object\n",
      " 6   brand        50856 non-null  object\n",
      " 7   quantity     50856 non-null  int64 \n",
      " 8   item_price   50856 non-null  int64 \n",
      " 9   total_price  50856 non-null  int64 \n",
      "dtypes: int64(4), object(6)\n",
      "memory usage: 4.3+ MB\n"
     ]
    }
   ],
   "source": [
    "retail_table.info()"
   ]
  },
  {
   "cell_type": "markdown",
   "metadata": {},
   "source": [
    "PENGECEKAN STATISTIK DESKIRIPTIF"
   ]
  },
  {
   "cell_type": "code",
   "execution_count": 5,
   "metadata": {},
   "outputs": [
    {
     "data": {
      "text/html": [
       "<div>\n",
       "<style scoped>\n",
       "    .dataframe tbody tr th:only-of-type {\n",
       "        vertical-align: middle;\n",
       "    }\n",
       "\n",
       "    .dataframe tbody tr th {\n",
       "        vertical-align: top;\n",
       "    }\n",
       "\n",
       "    .dataframe thead th {\n",
       "        text-align: right;\n",
       "    }\n",
       "</style>\n",
       "<table border=\"1\" class=\"dataframe\">\n",
       "  <thead>\n",
       "    <tr style=\"text-align: right;\">\n",
       "      <th></th>\n",
       "      <th>customer_id</th>\n",
       "      <th>quantity</th>\n",
       "      <th>item_price</th>\n",
       "      <th>total_price</th>\n",
       "    </tr>\n",
       "  </thead>\n",
       "  <tbody>\n",
       "    <tr>\n",
       "      <th>count</th>\n",
       "      <td>50856.000000</td>\n",
       "      <td>50856.000000</td>\n",
       "      <td>5.085600e+04</td>\n",
       "      <td>5.085600e+04</td>\n",
       "    </tr>\n",
       "    <tr>\n",
       "      <th>mean</th>\n",
       "      <td>11516.434993</td>\n",
       "      <td>10.504680</td>\n",
       "      <td>1.345225e+06</td>\n",
       "      <td>7.020933e+06</td>\n",
       "    </tr>\n",
       "    <tr>\n",
       "      <th>std</th>\n",
       "      <td>6762.130438</td>\n",
       "      <td>41.966574</td>\n",
       "      <td>7.306866e+06</td>\n",
       "      <td>2.689227e+07</td>\n",
       "    </tr>\n",
       "    <tr>\n",
       "      <th>min</th>\n",
       "      <td>0.000000</td>\n",
       "      <td>1.000000</td>\n",
       "      <td>-8.910000e+05</td>\n",
       "      <td>-8.910000e+05</td>\n",
       "    </tr>\n",
       "    <tr>\n",
       "      <th>25%</th>\n",
       "      <td>12370.000000</td>\n",
       "      <td>1.000000</td>\n",
       "      <td>4.500000e+05</td>\n",
       "      <td>1.356000e+06</td>\n",
       "    </tr>\n",
       "    <tr>\n",
       "      <th>50%</th>\n",
       "      <td>14378.000000</td>\n",
       "      <td>4.000000</td>\n",
       "      <td>7.400000e+05</td>\n",
       "      <td>3.536000e+06</td>\n",
       "    </tr>\n",
       "    <tr>\n",
       "      <th>75%</th>\n",
       "      <td>16284.000000</td>\n",
       "      <td>11.000000</td>\n",
       "      <td>1.458000e+06</td>\n",
       "      <td>6.270000e+06</td>\n",
       "    </tr>\n",
       "    <tr>\n",
       "      <th>max</th>\n",
       "      <td>18287.000000</td>\n",
       "      <td>3114.000000</td>\n",
       "      <td>7.399120e+08</td>\n",
       "      <td>2.326158e+09</td>\n",
       "    </tr>\n",
       "  </tbody>\n",
       "</table>\n",
       "</div>"
      ],
      "text/plain": [
       "        customer_id      quantity    item_price   total_price\n",
       "count  50856.000000  50856.000000  5.085600e+04  5.085600e+04\n",
       "mean   11516.434993     10.504680  1.345225e+06  7.020933e+06\n",
       "std     6762.130438     41.966574  7.306866e+06  2.689227e+07\n",
       "min        0.000000      1.000000 -8.910000e+05 -8.910000e+05\n",
       "25%    12370.000000      1.000000  4.500000e+05  1.356000e+06\n",
       "50%    14378.000000      4.000000  7.400000e+05  3.536000e+06\n",
       "75%    16284.000000     11.000000  1.458000e+06  6.270000e+06\n",
       "max    18287.000000   3114.000000  7.399120e+08  2.326158e+09"
      ]
     },
     "execution_count": 5,
     "metadata": {},
     "output_type": "execute_result"
    }
   ],
   "source": [
    "retail_table.describe()"
   ]
  },
  {
   "cell_type": "markdown",
   "metadata": {},
   "source": [
    "TRANSFORMASI DATA"
   ]
  },
  {
   "cell_type": "code",
   "execution_count": 6,
   "metadata": {},
   "outputs": [
    {
     "name": "stdout",
     "output_type": "stream",
     "text": [
      "\n",
      "item_price < 0 atau total_price < 0:\n",
      "    order_id order_date  customer_id           city     province product_id  \\\n",
      "4   1612915   01-01-19            0        unknown      unknown      P1230   \n",
      "96  1612927   01-01-19            0        unknown      unknown      P2736   \n",
      "21  1697299   01-10-19        17841  Jakarta Utara  DKI Jakarta      P2482   \n",
      "\n",
      "      brand  quantity  item_price  total_price  \n",
      "4   BRAND_E         1     -891000       891000  \n",
      "96  BRAND_P         1     -891000      -891000  \n",
      "21  BRAND_P         1      520000      -520000  \n"
     ]
    }
   ],
   "source": [
    "#Memastikan data yang memiliki item_price < 0 atau total_price < 0\n",
    "cek = retail_table.loc[(retail_table['item_price'] < 0) | (retail_table['total_price'] < 0)]\n",
    "print('\\nitem_price < 0 atau total_price < 0:\\n', cek)"
   ]
  },
  {
   "cell_type": "code",
   "execution_count": 7,
   "metadata": {},
   "outputs": [],
   "source": [
    "#Jika ada maka buang baris tersebut\n",
    "if cek.shape[0] != 0:\n",
    "  retail_table = retail_table.loc[(retail_table['item_price'] > 0) & (retail_table['total_price'] > 0)]"
   ]
  },
  {
   "cell_type": "code",
   "execution_count": 8,
   "metadata": {},
   "outputs": [
    {
     "name": "stdout",
     "output_type": "stream",
     "text": [
      "data undefined :      order_id order_date  customer_id           city     province product_id  \\\n",
      "9  undefined   01-07-19        15150  Jakarta Pusat  DKI Jakarta      P3694   \n",
      "\n",
      "     brand  quantity  item_price  total_price  \n",
      "9  BRAND_T        12      159000      1908000  \n"
     ]
    }
   ],
   "source": [
    "cek = retail_table.loc[retail_table['order_id'] == 'undefined']\n",
    "print('data undefined : ',cek)"
   ]
  },
  {
   "cell_type": "code",
   "execution_count": 9,
   "metadata": {},
   "outputs": [],
   "source": [
    "if cek.shape[0] != 0:\n",
    "  retail_table = retail_table.loc[retail_table['order_id'] != 'undefined']"
   ]
  },
  {
   "cell_type": "markdown",
   "metadata": {},
   "source": [
    "Transform order_date menjadi datetime pandas"
   ]
  },
  {
   "cell_type": "code",
   "execution_count": 10,
   "metadata": {},
   "outputs": [
    {
     "name": "stderr",
     "output_type": "stream",
     "text": [
      "C:\\Users\\hp\\AppData\\Local\\Temp\\ipykernel_11016\\2887292536.py:1: UserWarning: Could not infer format, so each element will be parsed individually, falling back to `dateutil`. To ensure parsing is consistent and as-expected, please specify a format.\n",
      "  retail_table['order_date'] = pd.to_datetime(retail_table['order_date'])\n"
     ]
    }
   ],
   "source": [
    "retail_table['order_date'] = pd.to_datetime(retail_table['order_date'])"
   ]
  },
  {
   "cell_type": "code",
   "execution_count": 11,
   "metadata": {},
   "outputs": [
    {
     "name": "stdout",
     "output_type": "stream",
     "text": [
      "\n",
      "Info:\n",
      "<class 'pandas.core.frame.DataFrame'>\n",
      "Index: 50852 entries, 0 to 20182\n",
      "Data columns (total 10 columns):\n",
      " #   Column       Non-Null Count  Dtype         \n",
      "---  ------       --------------  -----         \n",
      " 0   order_id     50852 non-null  object        \n",
      " 1   order_date   50852 non-null  datetime64[ns]\n",
      " 2   customer_id  50852 non-null  int64         \n",
      " 3   city         50852 non-null  object        \n",
      " 4   province     50852 non-null  object        \n",
      " 5   product_id   50852 non-null  object        \n",
      " 6   brand        50852 non-null  object        \n",
      " 7   quantity     50852 non-null  int64         \n",
      " 8   item_price   50852 non-null  int64         \n",
      " 9   total_price  50852 non-null  int64         \n",
      "dtypes: datetime64[ns](1), int64(4), object(5)\n",
      "memory usage: 4.3+ MB\n",
      "None\n"
     ]
    }
   ],
   "source": [
    "#      Cek dataframe info kembali untuk memastikan\n",
    "print('\\nInfo:')\n",
    "print(retail_table.info())"
   ]
  },
  {
   "cell_type": "code",
   "execution_count": 12,
   "metadata": {},
   "outputs": [
    {
     "name": "stdout",
     "output_type": "stream",
     "text": [
      "\n",
      "Statistik deskriptif:\n",
      "                           order_date   customer_id      quantity  \\\n",
      "count                          50852  50852.000000  50852.000000   \n",
      "mean   2019-07-23 13:29:35.788562432  11516.692107     10.505211   \n",
      "min              2019-01-01 00:00:00      0.000000      1.000000   \n",
      "25%              2019-04-16 00:00:00  12370.000000      1.000000   \n",
      "50%              2019-08-02 00:00:00  14378.000000      4.000000   \n",
      "75%              2019-11-01 00:00:00  16284.000000     11.000000   \n",
      "max              2019-12-31 00:00:00  18287.000000   3114.000000   \n",
      "std                              NaN   6761.933325     41.968160   \n",
      "\n",
      "         item_price   total_price  \n",
      "count  5.085200e+04  5.085200e+04  \n",
      "mean   1.345353e+06  7.021458e+06  \n",
      "min    1.200000e+04  1.200000e+04  \n",
      "25%    4.500000e+05  1.356000e+06  \n",
      "50%    7.400000e+05  3.536000e+06  \n",
      "75%    1.458000e+06  6.270000e+06  \n",
      "max    7.399120e+08  2.326158e+09  \n",
      "std    7.307137e+06  2.689326e+07  \n"
     ]
    }
   ],
   "source": [
    "#      Cek statistik deskriptif kembali, untuk memastikan\n",
    "print('\\nStatistik deskriptif:\\n', retail_table.describe())"
   ]
  },
  {
   "cell_type": "code",
   "execution_count": 13,
   "metadata": {},
   "outputs": [],
   "source": [
    "retail_table['order_id'] = retail_table['order_id'].astype('int64')"
   ]
  },
  {
   "cell_type": "code",
   "execution_count": 14,
   "metadata": {},
   "outputs": [
    {
     "name": "stdout",
     "output_type": "stream",
     "text": [
      "<class 'pandas.core.frame.DataFrame'>\n",
      "Index: 50852 entries, 0 to 20182\n",
      "Data columns (total 10 columns):\n",
      " #   Column       Non-Null Count  Dtype         \n",
      "---  ------       --------------  -----         \n",
      " 0   order_id     50852 non-null  int64         \n",
      " 1   order_date   50852 non-null  datetime64[ns]\n",
      " 2   customer_id  50852 non-null  int64         \n",
      " 3   city         50852 non-null  object        \n",
      " 4   province     50852 non-null  object        \n",
      " 5   product_id   50852 non-null  object        \n",
      " 6   brand        50852 non-null  object        \n",
      " 7   quantity     50852 non-null  int64         \n",
      " 8   item_price   50852 non-null  int64         \n",
      " 9   total_price  50852 non-null  int64         \n",
      "dtypes: datetime64[ns](1), int64(5), object(4)\n",
      "memory usage: 4.3+ MB\n"
     ]
    }
   ],
   "source": [
    "retail_table.info()"
   ]
  },
  {
   "cell_type": "markdown",
   "metadata": {},
   "source": [
    "Filter hanya 5 province terbesar di pulau jawa"
   ]
  },
  {
   "cell_type": "code",
   "execution_count": 15,
   "metadata": {},
   "outputs": [],
   "source": [
    "java = ['DKI Jakarta','Jawa Barat','Jawa Tengah','Jawa Timur','Yogyakarta']\n",
    "retail_table = retail_table.loc[retail_table['province'].isin(java)]"
   ]
  },
  {
   "cell_type": "code",
   "execution_count": 16,
   "metadata": {},
   "outputs": [
    {
     "name": "stdout",
     "output_type": "stream",
     "text": [
      "['Jawa Timur' 'Jawa Barat' 'Jawa Tengah' 'Yogyakarta' 'DKI Jakarta']\n"
     ]
    }
   ],
   "source": [
    "print(retail_table['province'].unique())"
   ]
  },
  {
   "cell_type": "code",
   "execution_count": 17,
   "metadata": {},
   "outputs": [],
   "source": [
    "group_by_city_province = retail_table.groupby(['order_date','province']).agg({\n",
    "   'order_id': 'nunique',\n",
    "   'customer_id': 'nunique',\n",
    "   'product_id': 'nunique',\n",
    "   'brand': 'nunique',\n",
    "   'total_price': sum\n",
    "})"
   ]
  },
  {
   "cell_type": "markdown",
   "metadata": {},
   "source": [
    " Ubah nama kolomnya menjadi 'order','customer','product','brand','GMV'"
   ]
  },
  {
   "cell_type": "code",
   "execution_count": 18,
   "metadata": {},
   "outputs": [
    {
     "name": "stdout",
     "output_type": "stream",
     "text": [
      "\n",
      "groupby_city_province (10 data teratas):\n",
      "                         order  customer  product  brand         GMV\n",
      "order_date province                                                \n",
      "2019-01-01 DKI Jakarta     21        20       40     16   357607000\n",
      "           Jawa Barat       6         6       21      9    94335000\n",
      "           Jawa Tengah      3         3       19     11    53933000\n",
      "           Jawa Timur       3         3        9      9    69116000\n",
      "           Yogyakarta       4         3       10      6  2884114000\n",
      "2019-01-02 DKI Jakarta     10        10       28     14   149577000\n",
      "           Jawa Barat       7         7       26     11   172395000\n",
      "           Jawa Tengah      1         1        2      2    13760000\n",
      "           Jawa Timur       2         2        3      2    92570000\n",
      "           Yogyakarta       1         1        6      4   122160000\n"
     ]
    }
   ],
   "source": [
    "group_by_city_province.columns = ['order','customer','product','brand','GMV']\n",
    "print('\\ngroupby_city_province (10 data teratas):\\n', group_by_city_province.head(10))"
   ]
  },
  {
   "cell_type": "markdown",
   "metadata": {},
   "source": [
    "Unstack untuk mendapatkan order_date di bagian baris dan province di bagian column\n"
   ]
  },
  {
   "cell_type": "code",
   "execution_count": 19,
   "metadata": {},
   "outputs": [
    {
     "name": "stdout",
     "output_type": "stream",
     "text": [
      "\n",
      "unstack_city_province (5 data teratas):\n",
      "                  order                                               \\\n",
      "province   DKI Jakarta Jawa Barat Jawa Tengah Jawa Timur Yogyakarta   \n",
      "order_date                                                            \n",
      "2019-01-01        21.0        6.0         3.0        3.0        4.0   \n",
      "2019-01-02        10.0        7.0         1.0        2.0        1.0   \n",
      "2019-01-03         9.0        2.0         8.0        4.0        3.0   \n",
      "2019-01-04        18.0        5.0         5.0        0.0        4.0   \n",
      "2019-01-05        13.0        7.0         2.0        2.0        2.0   \n",
      "\n",
      "              customer                                               ...  \\\n",
      "province   DKI Jakarta Jawa Barat Jawa Tengah Jawa Timur Yogyakarta  ...   \n",
      "order_date                                                           ...   \n",
      "2019-01-01        20.0        6.0         3.0        3.0        3.0  ...   \n",
      "2019-01-02        10.0        7.0         1.0        2.0        1.0  ...   \n",
      "2019-01-03         9.0        2.0         7.0        4.0        3.0  ...   \n",
      "2019-01-04        17.0        5.0         4.0        0.0        4.0  ...   \n",
      "2019-01-05        13.0        7.0         2.0        2.0        2.0  ...   \n",
      "\n",
      "                 brand                                               \\\n",
      "province   DKI Jakarta Jawa Barat Jawa Tengah Jawa Timur Yogyakarta   \n",
      "order_date                                                            \n",
      "2019-01-01        16.0        9.0        11.0        9.0        6.0   \n",
      "2019-01-02        14.0       11.0         2.0        2.0        4.0   \n",
      "2019-01-03        14.0        3.0        12.0        4.0        8.0   \n",
      "2019-01-04        16.0        9.0        12.0        0.0       13.0   \n",
      "2019-01-05        16.0        8.0         3.0        3.0        4.0   \n",
      "\n",
      "                    GMV                                                      \n",
      "province    DKI Jakarta   Jawa Barat  Jawa Tengah  Jawa Timur    Yogyakarta  \n",
      "order_date                                                                   \n",
      "2019-01-01  357607000.0   94335000.0   53933000.0  69116000.0  2.884114e+09  \n",
      "2019-01-02  149577000.0  172395000.0   13760000.0  92570000.0  1.221600e+08  \n",
      "2019-01-03  112692000.0   19620000.0  271542000.0  32195000.0  6.404500e+07  \n",
      "2019-01-04  274770000.0  102269000.0  178734000.0         0.0  3.508500e+07  \n",
      "2019-01-05  223951000.0  206605000.0   18173000.0  38523000.0  1.749900e+07  \n",
      "\n",
      "[5 rows x 25 columns]\n"
     ]
    }
   ],
   "source": [
    "unstack_city_province = group_by_city_province.unstack('province').fillna(0)\n",
    "print('\\nunstack_city_province (5 data teratas):\\n', unstack_city_province.head())"
   ]
  },
  {
   "cell_type": "markdown",
   "metadata": {},
   "source": [
    "Slicing data untuk masing-masing measurement, misal: order"
   ]
  },
  {
   "cell_type": "code",
   "execution_count": 20,
   "metadata": {},
   "outputs": [
    {
     "name": "stdout",
     "output_type": "stream",
     "text": [
      "\n",
      "by order (5 data teratas):\n",
      " province    DKI Jakarta  Jawa Barat  Jawa Tengah  Jawa Timur  Yogyakarta\n",
      "order_date                                                              \n",
      "2019-01-01         21.0         6.0          3.0         3.0         4.0\n",
      "2019-01-02         10.0         7.0          1.0         2.0         1.0\n",
      "2019-01-03          9.0         2.0          8.0         4.0         3.0\n",
      "2019-01-04         18.0         5.0          5.0         0.0         4.0\n",
      "2019-01-05         13.0         7.0          2.0         2.0         2.0\n"
     ]
    }
   ],
   "source": [
    "idx = pd.IndexSlice\n",
    "by_order = unstack_city_province.loc[:,idx['order']]\n",
    "print('\\nby order (5 data teratas):\\n', by_order.head())"
   ]
  },
  {
   "cell_type": "markdown",
   "metadata": {},
   "source": [
    "Lakukan resampling pada data tersebut untuk dilakukan perhitungan rata-rata bulanan"
   ]
  },
  {
   "cell_type": "code",
   "execution_count": 21,
   "metadata": {},
   "outputs": [
    {
     "name": "stdout",
     "output_type": "stream",
     "text": [
      "\n",
      "by_order_monthly_mean (5 data teratas):\n",
      " province    DKI Jakarta  Jawa Barat  Jawa Tengah  Jawa Timur  Yogyakarta\n",
      "order_date                                                              \n",
      "2019-01-31    14.052632    5.684211     2.631579    2.210526    3.052632\n",
      "2019-02-28    17.043478    5.956522     2.043478    2.652174    3.130435\n",
      "2019-03-31    18.259259    5.296296     2.555556    2.777778    2.703704\n",
      "2019-04-30    18.269231    6.653846     3.153846    2.538462    2.807692\n",
      "2019-05-31    19.136364    6.863636     2.590909    3.363636    3.727273\n"
     ]
    }
   ],
   "source": [
    "by_order_monthly_mean = by_order.resample('M').mean()\n",
    "print('\\nby_order_monthly_mean (5 data teratas):\\n', by_order_monthly_mean.head())"
   ]
  },
  {
   "cell_type": "markdown",
   "metadata": {},
   "source": [
    "Plot untuk hasil by_order_monthly"
   ]
  },
  {
   "cell_type": "code",
   "execution_count": 24,
   "metadata": {},
   "outputs": [
    {
     "data": {
      "image/png": "[encoded data removed]",
      "text/plain": [
       "<Figure size 800x500 with 1 Axes>"
      ]
     },
     "metadata": {},
     "output_type": "display_data"
    }
   ],
   "source": [
    "by_order_monthly_mean.plot(\n",
    "   figsize = (8,5),\n",
    "   title = 'Average Daily order Size in Month View for all Province'\n",
    ")\n",
    "plt.ylabel('avg order size')\n",
    "plt.xlabel('month')\n",
    "plt.show()"
   ]
  }
 ],
 "metadata": {
  "kernelspec": {
   "display_name": "Python 3",
   "language": "python",
   "name": "python3"
  },
  "language_info": {
   "codemirror_mode": {
    "name": "ipython",
    "version": 3
   },
   "file_extension": ".py",
   "mimetype": "text/x-python",
   "name": "python",
   "nbconvert_exporter": "python",
   "pygments_lexer": "ipython3",
   "version": "3.11.4"
  },
  "orig_nbformat": 4
 },
 "nbformat": 4,
 "nbformat_minor": 2
}
